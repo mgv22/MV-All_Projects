{
 "cells": [
  {
   "cell_type": "code",
   "execution_count": null,
   "metadata": {
    "colab": {
     "base_uri": "https://localhost:8080/"
    },
    "id": "PfLw2tx6ebbn",
    "outputId": "fe38045b-0fc1-41cf-b43d-95678476343c"
   },
   "outputs": [
    {
     "name": "stdout",
     "output_type": "stream",
     "text": [
      "Drive already mounted at /content/drive; to attempt to forcibly remount, call drive.mount(\"/content/drive\", force_remount=True).\n"
     ]
    }
   ],
   "source": [
    " from google.colab import drive \n",
    "drive.mount('/content/drive')"
   ]
  },
  {
   "cell_type": "code",
   "execution_count": null,
   "metadata": {
    "id": "Ba-taKMPcf3b"
   },
   "outputs": [],
   "source": [
    "import sklearn\n",
    "import seaborn as sns\n",
    "import time\n",
    "import pandas as pd\n",
    "import numpy as np\n",
    "import os\n",
    "import tensorflow as tf\n",
    "from tensorflow import keras\n",
    "from keras.layers import Dense\n",
    "from tensorflow.keras import layers\n",
    "from tensorflow.keras.layers import Dense\n",
    "import datetime\n",
    "from sklearn.manifold import LocallyLinearEmbedding\n",
    "from sklearn.mixture import GaussianMixture\n",
    "from scipy import stats\n",
    "from sklearn.cluster import MiniBatchKMeans\n",
    "from sklearn.metrics import silhouette_score\n",
    "from sklearn.metrics import silhouette_samples\n",
    "from sklearn.linear_model import LogisticRegression\n",
    "from sklearn.pipeline import Pipeline\n",
    "from sklearn.model_selection import GridSearchCV\n",
    "from sklearn.metrics import mean_squared_error\n",
    "from IPython.core.interactiveshell import InteractiveShell\n",
    "from sklearn.linear_model import RidgeCV, ElasticNetCV, LassoCV \n",
    "from sklearn.decomposition import PCA #Principal Component Analysis\n",
    "from sklearn.decomposition import IncrementalPCA\n",
    "from sklearn.decomposition import KernelPCA\n",
    "from sklearn.preprocessing import LabelEncoder, StandardScaler #transforms categorical into numbers\n",
    "from sklearn.model_selection import KFold\n",
    "from sklearn.model_selection import train_test_split, cross_val_score\n",
    "from sklearn.ensemble import RandomForestClassifier\n",
    "from sklearn.ensemble import VotingClassifier\n",
    "from sklearn.linear_model import LogisticRegression\n",
    "from sklearn.svm import SVC\n",
    "from sklearn.metrics import mean_squared_error, make_scorer, f1_score, confusion_matrix\n",
    "import xgboost\n",
    "from sklearn.cluster import KMeans\n",
    "\n",
    "\n",
    "%matplotlib inline\n",
    "import matplotlib as mpl\n",
    "import matplotlib.pyplot as plt\n",
    "from matplotlib.ticker import FixedLocator, FixedFormatter\n",
    "mpl.rc('axes', labelsize=14)\n",
    "mpl.rc('xtick', labelsize=12)\n",
    "mpl.rc('ytick', labelsize=12)\n"
   ]
  },
  {
   "cell_type": "code",
   "execution_count": null,
   "metadata": {
    "id": "96-UVh8Gdzna"
   },
   "outputs": [],
   "source": [
    "MNIST_train = pd.read_csv('train.csv')\n",
    "MNIST_test = pd.read_csv('test.csv')"
   ]
  },
  {
   "cell_type": "code",
   "execution_count": null,
   "metadata": {
    "colab": {
     "base_uri": "https://localhost:8080/",
     "height": 253
    },
    "id": "IogVOTt9fjEU",
    "outputId": "a465f199-c913-4b80-aa66-e4446db36147"
   },
   "outputs": [
    {
     "data": {
      "text/html": [
       "<div>\n",
       "<style scoped>\n",
       "    .dataframe tbody tr th:only-of-type {\n",
       "        vertical-align: middle;\n",
       "    }\n",
       "\n",
       "    .dataframe tbody tr th {\n",
       "        vertical-align: top;\n",
       "    }\n",
       "\n",
       "    .dataframe thead th {\n",
       "        text-align: right;\n",
       "    }\n",
       "</style>\n",
       "<table border=\"1\" class=\"dataframe\">\n",
       "  <thead>\n",
       "    <tr style=\"text-align: right;\">\n",
       "      <th></th>\n",
       "      <th>label</th>\n",
       "      <th>pixel0</th>\n",
       "      <th>pixel1</th>\n",
       "      <th>pixel2</th>\n",
       "      <th>pixel3</th>\n",
       "      <th>pixel4</th>\n",
       "      <th>pixel5</th>\n",
       "      <th>pixel6</th>\n",
       "      <th>pixel7</th>\n",
       "      <th>pixel8</th>\n",
       "      <th>pixel9</th>\n",
       "      <th>pixel10</th>\n",
       "      <th>pixel11</th>\n",
       "      <th>pixel12</th>\n",
       "      <th>pixel13</th>\n",
       "      <th>pixel14</th>\n",
       "      <th>pixel15</th>\n",
       "      <th>pixel16</th>\n",
       "      <th>pixel17</th>\n",
       "      <th>pixel18</th>\n",
       "      <th>pixel19</th>\n",
       "      <th>pixel20</th>\n",
       "      <th>pixel21</th>\n",
       "      <th>pixel22</th>\n",
       "      <th>pixel23</th>\n",
       "      <th>pixel24</th>\n",
       "      <th>pixel25</th>\n",
       "      <th>pixel26</th>\n",
       "      <th>pixel27</th>\n",
       "      <th>pixel28</th>\n",
       "      <th>pixel29</th>\n",
       "      <th>pixel30</th>\n",
       "      <th>pixel31</th>\n",
       "      <th>pixel32</th>\n",
       "      <th>pixel33</th>\n",
       "      <th>pixel34</th>\n",
       "      <th>pixel35</th>\n",
       "      <th>pixel36</th>\n",
       "      <th>pixel37</th>\n",
       "      <th>pixel38</th>\n",
       "      <th>...</th>\n",
       "      <th>pixel744</th>\n",
       "      <th>pixel745</th>\n",
       "      <th>pixel746</th>\n",
       "      <th>pixel747</th>\n",
       "      <th>pixel748</th>\n",
       "      <th>pixel749</th>\n",
       "      <th>pixel750</th>\n",
       "      <th>pixel751</th>\n",
       "      <th>pixel752</th>\n",
       "      <th>pixel753</th>\n",
       "      <th>pixel754</th>\n",
       "      <th>pixel755</th>\n",
       "      <th>pixel756</th>\n",
       "      <th>pixel757</th>\n",
       "      <th>pixel758</th>\n",
       "      <th>pixel759</th>\n",
       "      <th>pixel760</th>\n",
       "      <th>pixel761</th>\n",
       "      <th>pixel762</th>\n",
       "      <th>pixel763</th>\n",
       "      <th>pixel764</th>\n",
       "      <th>pixel765</th>\n",
       "      <th>pixel766</th>\n",
       "      <th>pixel767</th>\n",
       "      <th>pixel768</th>\n",
       "      <th>pixel769</th>\n",
       "      <th>pixel770</th>\n",
       "      <th>pixel771</th>\n",
       "      <th>pixel772</th>\n",
       "      <th>pixel773</th>\n",
       "      <th>pixel774</th>\n",
       "      <th>pixel775</th>\n",
       "      <th>pixel776</th>\n",
       "      <th>pixel777</th>\n",
       "      <th>pixel778</th>\n",
       "      <th>pixel779</th>\n",
       "      <th>pixel780</th>\n",
       "      <th>pixel781</th>\n",
       "      <th>pixel782</th>\n",
       "      <th>pixel783</th>\n",
       "    </tr>\n",
       "  </thead>\n",
       "  <tbody>\n",
       "    <tr>\n",
       "      <th>0</th>\n",
       "      <td>0</td>\n",
       "      <td>0</td>\n",
       "      <td>0</td>\n",
       "      <td>0</td>\n",
       "      <td>0</td>\n",
       "      <td>0</td>\n",
       "      <td>0</td>\n",
       "      <td>0</td>\n",
       "      <td>0</td>\n",
       "      <td>0</td>\n",
       "      <td>0</td>\n",
       "      <td>0</td>\n",
       "      <td>0</td>\n",
       "      <td>0</td>\n",
       "      <td>0</td>\n",
       "      <td>0</td>\n",
       "      <td>0</td>\n",
       "      <td>0</td>\n",
       "      <td>0</td>\n",
       "      <td>0</td>\n",
       "      <td>0</td>\n",
       "      <td>0</td>\n",
       "      <td>0</td>\n",
       "      <td>0</td>\n",
       "      <td>0</td>\n",
       "      <td>0</td>\n",
       "      <td>0</td>\n",
       "      <td>0</td>\n",
       "      <td>0</td>\n",
       "      <td>0</td>\n",
       "      <td>0</td>\n",
       "      <td>0</td>\n",
       "      <td>0</td>\n",
       "      <td>0</td>\n",
       "      <td>0</td>\n",
       "      <td>0</td>\n",
       "      <td>0</td>\n",
       "      <td>0</td>\n",
       "      <td>0</td>\n",
       "      <td>0</td>\n",
       "      <td>...</td>\n",
       "      <td>0</td>\n",
       "      <td>0</td>\n",
       "      <td>0</td>\n",
       "      <td>0</td>\n",
       "      <td>0</td>\n",
       "      <td>0</td>\n",
       "      <td>0</td>\n",
       "      <td>0</td>\n",
       "      <td>0</td>\n",
       "      <td>0</td>\n",
       "      <td>0</td>\n",
       "      <td>0</td>\n",
       "      <td>0</td>\n",
       "      <td>0</td>\n",
       "      <td>0</td>\n",
       "      <td>0</td>\n",
       "      <td>0</td>\n",
       "      <td>0</td>\n",
       "      <td>0</td>\n",
       "      <td>0</td>\n",
       "      <td>0</td>\n",
       "      <td>0</td>\n",
       "      <td>0</td>\n",
       "      <td>0</td>\n",
       "      <td>0</td>\n",
       "      <td>0</td>\n",
       "      <td>0</td>\n",
       "      <td>0</td>\n",
       "      <td>0</td>\n",
       "      <td>0</td>\n",
       "      <td>0</td>\n",
       "      <td>0</td>\n",
       "      <td>0</td>\n",
       "      <td>0</td>\n",
       "      <td>0</td>\n",
       "      <td>0</td>\n",
       "      <td>0</td>\n",
       "      <td>0</td>\n",
       "      <td>0</td>\n",
       "      <td>0</td>\n",
       "    </tr>\n",
       "    <tr>\n",
       "      <th>1</th>\n",
       "      <td>1</td>\n",
       "      <td>0</td>\n",
       "      <td>0</td>\n",
       "      <td>0</td>\n",
       "      <td>0</td>\n",
       "      <td>0</td>\n",
       "      <td>0</td>\n",
       "      <td>0</td>\n",
       "      <td>0</td>\n",
       "      <td>0</td>\n",
       "      <td>0</td>\n",
       "      <td>0</td>\n",
       "      <td>0</td>\n",
       "      <td>0</td>\n",
       "      <td>0</td>\n",
       "      <td>0</td>\n",
       "      <td>0</td>\n",
       "      <td>0</td>\n",
       "      <td>0</td>\n",
       "      <td>0</td>\n",
       "      <td>0</td>\n",
       "      <td>0</td>\n",
       "      <td>0</td>\n",
       "      <td>0</td>\n",
       "      <td>0</td>\n",
       "      <td>0</td>\n",
       "      <td>0</td>\n",
       "      <td>0</td>\n",
       "      <td>0</td>\n",
       "      <td>0</td>\n",
       "      <td>0</td>\n",
       "      <td>0</td>\n",
       "      <td>0</td>\n",
       "      <td>0</td>\n",
       "      <td>0</td>\n",
       "      <td>0</td>\n",
       "      <td>0</td>\n",
       "      <td>0</td>\n",
       "      <td>0</td>\n",
       "      <td>0</td>\n",
       "      <td>...</td>\n",
       "      <td>0</td>\n",
       "      <td>0</td>\n",
       "      <td>0</td>\n",
       "      <td>0</td>\n",
       "      <td>0</td>\n",
       "      <td>0</td>\n",
       "      <td>0</td>\n",
       "      <td>0</td>\n",
       "      <td>0</td>\n",
       "      <td>0</td>\n",
       "      <td>0</td>\n",
       "      <td>0</td>\n",
       "      <td>0</td>\n",
       "      <td>0</td>\n",
       "      <td>0</td>\n",
       "      <td>0</td>\n",
       "      <td>0</td>\n",
       "      <td>0</td>\n",
       "      <td>0</td>\n",
       "      <td>0</td>\n",
       "      <td>0</td>\n",
       "      <td>0</td>\n",
       "      <td>0</td>\n",
       "      <td>0</td>\n",
       "      <td>0</td>\n",
       "      <td>0</td>\n",
       "      <td>0</td>\n",
       "      <td>0</td>\n",
       "      <td>0</td>\n",
       "      <td>0</td>\n",
       "      <td>0</td>\n",
       "      <td>0</td>\n",
       "      <td>0</td>\n",
       "      <td>0</td>\n",
       "      <td>0</td>\n",
       "      <td>0</td>\n",
       "      <td>0</td>\n",
       "      <td>0</td>\n",
       "      <td>0</td>\n",
       "      <td>0</td>\n",
       "    </tr>\n",
       "    <tr>\n",
       "      <th>2</th>\n",
       "      <td>2</td>\n",
       "      <td>0</td>\n",
       "      <td>0</td>\n",
       "      <td>0</td>\n",
       "      <td>0</td>\n",
       "      <td>0</td>\n",
       "      <td>0</td>\n",
       "      <td>0</td>\n",
       "      <td>0</td>\n",
       "      <td>0</td>\n",
       "      <td>0</td>\n",
       "      <td>0</td>\n",
       "      <td>0</td>\n",
       "      <td>0</td>\n",
       "      <td>0</td>\n",
       "      <td>0</td>\n",
       "      <td>0</td>\n",
       "      <td>0</td>\n",
       "      <td>0</td>\n",
       "      <td>0</td>\n",
       "      <td>0</td>\n",
       "      <td>0</td>\n",
       "      <td>0</td>\n",
       "      <td>0</td>\n",
       "      <td>0</td>\n",
       "      <td>0</td>\n",
       "      <td>0</td>\n",
       "      <td>0</td>\n",
       "      <td>0</td>\n",
       "      <td>0</td>\n",
       "      <td>0</td>\n",
       "      <td>0</td>\n",
       "      <td>0</td>\n",
       "      <td>0</td>\n",
       "      <td>0</td>\n",
       "      <td>0</td>\n",
       "      <td>0</td>\n",
       "      <td>0</td>\n",
       "      <td>0</td>\n",
       "      <td>0</td>\n",
       "      <td>...</td>\n",
       "      <td>0</td>\n",
       "      <td>0</td>\n",
       "      <td>0</td>\n",
       "      <td>0</td>\n",
       "      <td>0</td>\n",
       "      <td>0</td>\n",
       "      <td>0</td>\n",
       "      <td>0</td>\n",
       "      <td>0</td>\n",
       "      <td>0</td>\n",
       "      <td>0</td>\n",
       "      <td>0</td>\n",
       "      <td>0</td>\n",
       "      <td>0</td>\n",
       "      <td>0</td>\n",
       "      <td>0</td>\n",
       "      <td>0</td>\n",
       "      <td>0</td>\n",
       "      <td>0</td>\n",
       "      <td>0</td>\n",
       "      <td>0</td>\n",
       "      <td>0</td>\n",
       "      <td>0</td>\n",
       "      <td>0</td>\n",
       "      <td>0</td>\n",
       "      <td>0</td>\n",
       "      <td>0</td>\n",
       "      <td>0</td>\n",
       "      <td>0</td>\n",
       "      <td>0</td>\n",
       "      <td>0</td>\n",
       "      <td>0</td>\n",
       "      <td>0</td>\n",
       "      <td>0</td>\n",
       "      <td>0</td>\n",
       "      <td>0</td>\n",
       "      <td>0</td>\n",
       "      <td>0</td>\n",
       "      <td>0</td>\n",
       "      <td>0</td>\n",
       "    </tr>\n",
       "    <tr>\n",
       "      <th>3</th>\n",
       "      <td>3</td>\n",
       "      <td>0</td>\n",
       "      <td>0</td>\n",
       "      <td>0</td>\n",
       "      <td>0</td>\n",
       "      <td>0</td>\n",
       "      <td>0</td>\n",
       "      <td>0</td>\n",
       "      <td>0</td>\n",
       "      <td>0</td>\n",
       "      <td>0</td>\n",
       "      <td>0</td>\n",
       "      <td>0</td>\n",
       "      <td>0</td>\n",
       "      <td>0</td>\n",
       "      <td>0</td>\n",
       "      <td>0</td>\n",
       "      <td>0</td>\n",
       "      <td>0</td>\n",
       "      <td>0</td>\n",
       "      <td>0</td>\n",
       "      <td>0</td>\n",
       "      <td>0</td>\n",
       "      <td>0</td>\n",
       "      <td>0</td>\n",
       "      <td>0</td>\n",
       "      <td>0</td>\n",
       "      <td>0</td>\n",
       "      <td>0</td>\n",
       "      <td>0</td>\n",
       "      <td>0</td>\n",
       "      <td>0</td>\n",
       "      <td>0</td>\n",
       "      <td>0</td>\n",
       "      <td>0</td>\n",
       "      <td>0</td>\n",
       "      <td>0</td>\n",
       "      <td>0</td>\n",
       "      <td>0</td>\n",
       "      <td>0</td>\n",
       "      <td>...</td>\n",
       "      <td>0</td>\n",
       "      <td>0</td>\n",
       "      <td>0</td>\n",
       "      <td>0</td>\n",
       "      <td>0</td>\n",
       "      <td>0</td>\n",
       "      <td>0</td>\n",
       "      <td>0</td>\n",
       "      <td>0</td>\n",
       "      <td>0</td>\n",
       "      <td>0</td>\n",
       "      <td>0</td>\n",
       "      <td>0</td>\n",
       "      <td>0</td>\n",
       "      <td>0</td>\n",
       "      <td>0</td>\n",
       "      <td>0</td>\n",
       "      <td>0</td>\n",
       "      <td>0</td>\n",
       "      <td>0</td>\n",
       "      <td>0</td>\n",
       "      <td>0</td>\n",
       "      <td>0</td>\n",
       "      <td>0</td>\n",
       "      <td>0</td>\n",
       "      <td>0</td>\n",
       "      <td>0</td>\n",
       "      <td>0</td>\n",
       "      <td>0</td>\n",
       "      <td>0</td>\n",
       "      <td>0</td>\n",
       "      <td>0</td>\n",
       "      <td>0</td>\n",
       "      <td>0</td>\n",
       "      <td>0</td>\n",
       "      <td>0</td>\n",
       "      <td>0</td>\n",
       "      <td>0</td>\n",
       "      <td>0</td>\n",
       "      <td>0</td>\n",
       "    </tr>\n",
       "    <tr>\n",
       "      <th>4</th>\n",
       "      <td>4</td>\n",
       "      <td>0</td>\n",
       "      <td>0</td>\n",
       "      <td>0</td>\n",
       "      <td>0</td>\n",
       "      <td>0</td>\n",
       "      <td>0</td>\n",
       "      <td>0</td>\n",
       "      <td>0</td>\n",
       "      <td>0</td>\n",
       "      <td>0</td>\n",
       "      <td>0</td>\n",
       "      <td>0</td>\n",
       "      <td>0</td>\n",
       "      <td>0</td>\n",
       "      <td>0</td>\n",
       "      <td>0</td>\n",
       "      <td>0</td>\n",
       "      <td>0</td>\n",
       "      <td>0</td>\n",
       "      <td>0</td>\n",
       "      <td>0</td>\n",
       "      <td>0</td>\n",
       "      <td>0</td>\n",
       "      <td>0</td>\n",
       "      <td>0</td>\n",
       "      <td>0</td>\n",
       "      <td>0</td>\n",
       "      <td>0</td>\n",
       "      <td>0</td>\n",
       "      <td>0</td>\n",
       "      <td>0</td>\n",
       "      <td>0</td>\n",
       "      <td>0</td>\n",
       "      <td>0</td>\n",
       "      <td>0</td>\n",
       "      <td>0</td>\n",
       "      <td>0</td>\n",
       "      <td>0</td>\n",
       "      <td>0</td>\n",
       "      <td>...</td>\n",
       "      <td>0</td>\n",
       "      <td>0</td>\n",
       "      <td>0</td>\n",
       "      <td>0</td>\n",
       "      <td>0</td>\n",
       "      <td>0</td>\n",
       "      <td>0</td>\n",
       "      <td>0</td>\n",
       "      <td>0</td>\n",
       "      <td>0</td>\n",
       "      <td>0</td>\n",
       "      <td>0</td>\n",
       "      <td>0</td>\n",
       "      <td>0</td>\n",
       "      <td>0</td>\n",
       "      <td>0</td>\n",
       "      <td>0</td>\n",
       "      <td>0</td>\n",
       "      <td>0</td>\n",
       "      <td>0</td>\n",
       "      <td>0</td>\n",
       "      <td>0</td>\n",
       "      <td>0</td>\n",
       "      <td>0</td>\n",
       "      <td>0</td>\n",
       "      <td>0</td>\n",
       "      <td>0</td>\n",
       "      <td>0</td>\n",
       "      <td>0</td>\n",
       "      <td>0</td>\n",
       "      <td>0</td>\n",
       "      <td>0</td>\n",
       "      <td>0</td>\n",
       "      <td>0</td>\n",
       "      <td>0</td>\n",
       "      <td>0</td>\n",
       "      <td>0</td>\n",
       "      <td>0</td>\n",
       "      <td>0</td>\n",
       "      <td>0</td>\n",
       "    </tr>\n",
       "  </tbody>\n",
       "</table>\n",
       "<p>5 rows × 785 columns</p>\n",
       "</div>"
      ],
      "text/plain": [
       "   label  pixel0  pixel1  pixel2  ...  pixel780  pixel781  pixel782  pixel783\n",
       "0      0       0       0       0  ...         0         0         0         0\n",
       "1      1       0       0       0  ...         0         0         0         0\n",
       "2      2       0       0       0  ...         0         0         0         0\n",
       "3      3       0       0       0  ...         0         0         0         0\n",
       "4      4       0       0       0  ...         0         0         0         0\n",
       "\n",
       "[5 rows x 785 columns]"
      ]
     },
     "execution_count": 3,
     "metadata": {
      "tags": []
     },
     "output_type": "execute_result"
    }
   ],
   "source": [
    "MNIST_train.head()"
   ]
  },
  {
   "cell_type": "code",
   "execution_count": null,
   "metadata": {
    "colab": {
     "base_uri": "https://localhost:8080/"
    },
    "id": "hQNKO2j1fozV",
    "outputId": "19e3b492-bd2c-4108-b55e-eaa5fe5a6800"
   },
   "outputs": [
    {
     "name": "stdout",
     "output_type": "stream",
     "text": [
      "(60000, 785)\n",
      "(5000, 785)\n"
     ]
    }
   ],
   "source": [
    "print(MNIST_train.shape)\n",
    "print(MNIST_test.shape)"
   ]
  },
  {
   "cell_type": "code",
   "execution_count": null,
   "metadata": {
    "colab": {
     "base_uri": "https://localhost:8080/",
     "height": 253
    },
    "id": "fainxs8AGtza",
    "outputId": "74e02456-aa57-4eb5-aac2-4df01648da54"
   },
   "outputs": [
    {
     "data": {
      "text/html": [
       "<div>\n",
       "<style scoped>\n",
       "    .dataframe tbody tr th:only-of-type {\n",
       "        vertical-align: middle;\n",
       "    }\n",
       "\n",
       "    .dataframe tbody tr th {\n",
       "        vertical-align: top;\n",
       "    }\n",
       "\n",
       "    .dataframe thead th {\n",
       "        text-align: right;\n",
       "    }\n",
       "</style>\n",
       "<table border=\"1\" class=\"dataframe\">\n",
       "  <thead>\n",
       "    <tr style=\"text-align: right;\">\n",
       "      <th></th>\n",
       "      <th>id</th>\n",
       "      <th>pixel0</th>\n",
       "      <th>pixel1</th>\n",
       "      <th>pixel2</th>\n",
       "      <th>pixel3</th>\n",
       "      <th>pixel4</th>\n",
       "      <th>pixel5</th>\n",
       "      <th>pixel6</th>\n",
       "      <th>pixel7</th>\n",
       "      <th>pixel8</th>\n",
       "      <th>pixel9</th>\n",
       "      <th>pixel10</th>\n",
       "      <th>pixel11</th>\n",
       "      <th>pixel12</th>\n",
       "      <th>pixel13</th>\n",
       "      <th>pixel14</th>\n",
       "      <th>pixel15</th>\n",
       "      <th>pixel16</th>\n",
       "      <th>pixel17</th>\n",
       "      <th>pixel18</th>\n",
       "      <th>pixel19</th>\n",
       "      <th>pixel20</th>\n",
       "      <th>pixel21</th>\n",
       "      <th>pixel22</th>\n",
       "      <th>pixel23</th>\n",
       "      <th>pixel24</th>\n",
       "      <th>pixel25</th>\n",
       "      <th>pixel26</th>\n",
       "      <th>pixel27</th>\n",
       "      <th>pixel28</th>\n",
       "      <th>pixel29</th>\n",
       "      <th>pixel30</th>\n",
       "      <th>pixel31</th>\n",
       "      <th>pixel32</th>\n",
       "      <th>pixel33</th>\n",
       "      <th>pixel34</th>\n",
       "      <th>pixel35</th>\n",
       "      <th>pixel36</th>\n",
       "      <th>pixel37</th>\n",
       "      <th>pixel38</th>\n",
       "      <th>...</th>\n",
       "      <th>pixel744</th>\n",
       "      <th>pixel745</th>\n",
       "      <th>pixel746</th>\n",
       "      <th>pixel747</th>\n",
       "      <th>pixel748</th>\n",
       "      <th>pixel749</th>\n",
       "      <th>pixel750</th>\n",
       "      <th>pixel751</th>\n",
       "      <th>pixel752</th>\n",
       "      <th>pixel753</th>\n",
       "      <th>pixel754</th>\n",
       "      <th>pixel755</th>\n",
       "      <th>pixel756</th>\n",
       "      <th>pixel757</th>\n",
       "      <th>pixel758</th>\n",
       "      <th>pixel759</th>\n",
       "      <th>pixel760</th>\n",
       "      <th>pixel761</th>\n",
       "      <th>pixel762</th>\n",
       "      <th>pixel763</th>\n",
       "      <th>pixel764</th>\n",
       "      <th>pixel765</th>\n",
       "      <th>pixel766</th>\n",
       "      <th>pixel767</th>\n",
       "      <th>pixel768</th>\n",
       "      <th>pixel769</th>\n",
       "      <th>pixel770</th>\n",
       "      <th>pixel771</th>\n",
       "      <th>pixel772</th>\n",
       "      <th>pixel773</th>\n",
       "      <th>pixel774</th>\n",
       "      <th>pixel775</th>\n",
       "      <th>pixel776</th>\n",
       "      <th>pixel777</th>\n",
       "      <th>pixel778</th>\n",
       "      <th>pixel779</th>\n",
       "      <th>pixel780</th>\n",
       "      <th>pixel781</th>\n",
       "      <th>pixel782</th>\n",
       "      <th>pixel783</th>\n",
       "    </tr>\n",
       "  </thead>\n",
       "  <tbody>\n",
       "    <tr>\n",
       "      <th>0</th>\n",
       "      <td>0</td>\n",
       "      <td>0</td>\n",
       "      <td>0</td>\n",
       "      <td>0</td>\n",
       "      <td>0</td>\n",
       "      <td>0</td>\n",
       "      <td>0</td>\n",
       "      <td>0</td>\n",
       "      <td>0</td>\n",
       "      <td>0</td>\n",
       "      <td>0</td>\n",
       "      <td>0</td>\n",
       "      <td>0</td>\n",
       "      <td>0</td>\n",
       "      <td>0</td>\n",
       "      <td>0</td>\n",
       "      <td>0</td>\n",
       "      <td>0</td>\n",
       "      <td>0</td>\n",
       "      <td>0</td>\n",
       "      <td>0</td>\n",
       "      <td>0</td>\n",
       "      <td>0</td>\n",
       "      <td>0</td>\n",
       "      <td>0</td>\n",
       "      <td>0</td>\n",
       "      <td>0</td>\n",
       "      <td>0</td>\n",
       "      <td>0</td>\n",
       "      <td>0</td>\n",
       "      <td>0</td>\n",
       "      <td>0</td>\n",
       "      <td>0</td>\n",
       "      <td>0</td>\n",
       "      <td>0</td>\n",
       "      <td>0</td>\n",
       "      <td>0</td>\n",
       "      <td>0</td>\n",
       "      <td>0</td>\n",
       "      <td>0</td>\n",
       "      <td>...</td>\n",
       "      <td>0</td>\n",
       "      <td>0</td>\n",
       "      <td>0</td>\n",
       "      <td>0</td>\n",
       "      <td>0</td>\n",
       "      <td>0</td>\n",
       "      <td>0</td>\n",
       "      <td>0</td>\n",
       "      <td>0</td>\n",
       "      <td>0</td>\n",
       "      <td>0</td>\n",
       "      <td>0</td>\n",
       "      <td>0</td>\n",
       "      <td>0</td>\n",
       "      <td>0</td>\n",
       "      <td>0</td>\n",
       "      <td>0</td>\n",
       "      <td>0</td>\n",
       "      <td>0</td>\n",
       "      <td>0</td>\n",
       "      <td>0</td>\n",
       "      <td>0</td>\n",
       "      <td>0</td>\n",
       "      <td>0</td>\n",
       "      <td>0</td>\n",
       "      <td>0</td>\n",
       "      <td>0</td>\n",
       "      <td>0</td>\n",
       "      <td>0</td>\n",
       "      <td>0</td>\n",
       "      <td>0</td>\n",
       "      <td>0</td>\n",
       "      <td>0</td>\n",
       "      <td>0</td>\n",
       "      <td>0</td>\n",
       "      <td>0</td>\n",
       "      <td>0</td>\n",
       "      <td>0</td>\n",
       "      <td>0</td>\n",
       "      <td>0</td>\n",
       "    </tr>\n",
       "    <tr>\n",
       "      <th>1</th>\n",
       "      <td>1</td>\n",
       "      <td>0</td>\n",
       "      <td>0</td>\n",
       "      <td>0</td>\n",
       "      <td>0</td>\n",
       "      <td>0</td>\n",
       "      <td>0</td>\n",
       "      <td>0</td>\n",
       "      <td>0</td>\n",
       "      <td>0</td>\n",
       "      <td>0</td>\n",
       "      <td>0</td>\n",
       "      <td>0</td>\n",
       "      <td>0</td>\n",
       "      <td>0</td>\n",
       "      <td>0</td>\n",
       "      <td>0</td>\n",
       "      <td>0</td>\n",
       "      <td>0</td>\n",
       "      <td>0</td>\n",
       "      <td>0</td>\n",
       "      <td>0</td>\n",
       "      <td>0</td>\n",
       "      <td>0</td>\n",
       "      <td>0</td>\n",
       "      <td>0</td>\n",
       "      <td>0</td>\n",
       "      <td>0</td>\n",
       "      <td>0</td>\n",
       "      <td>0</td>\n",
       "      <td>0</td>\n",
       "      <td>0</td>\n",
       "      <td>0</td>\n",
       "      <td>0</td>\n",
       "      <td>0</td>\n",
       "      <td>0</td>\n",
       "      <td>0</td>\n",
       "      <td>0</td>\n",
       "      <td>0</td>\n",
       "      <td>0</td>\n",
       "      <td>...</td>\n",
       "      <td>0</td>\n",
       "      <td>0</td>\n",
       "      <td>0</td>\n",
       "      <td>0</td>\n",
       "      <td>0</td>\n",
       "      <td>0</td>\n",
       "      <td>0</td>\n",
       "      <td>0</td>\n",
       "      <td>0</td>\n",
       "      <td>0</td>\n",
       "      <td>0</td>\n",
       "      <td>0</td>\n",
       "      <td>0</td>\n",
       "      <td>0</td>\n",
       "      <td>0</td>\n",
       "      <td>0</td>\n",
       "      <td>0</td>\n",
       "      <td>0</td>\n",
       "      <td>0</td>\n",
       "      <td>0</td>\n",
       "      <td>0</td>\n",
       "      <td>0</td>\n",
       "      <td>0</td>\n",
       "      <td>0</td>\n",
       "      <td>0</td>\n",
       "      <td>0</td>\n",
       "      <td>0</td>\n",
       "      <td>0</td>\n",
       "      <td>0</td>\n",
       "      <td>0</td>\n",
       "      <td>0</td>\n",
       "      <td>0</td>\n",
       "      <td>0</td>\n",
       "      <td>0</td>\n",
       "      <td>0</td>\n",
       "      <td>0</td>\n",
       "      <td>0</td>\n",
       "      <td>0</td>\n",
       "      <td>0</td>\n",
       "      <td>0</td>\n",
       "    </tr>\n",
       "    <tr>\n",
       "      <th>2</th>\n",
       "      <td>2</td>\n",
       "      <td>0</td>\n",
       "      <td>0</td>\n",
       "      <td>0</td>\n",
       "      <td>0</td>\n",
       "      <td>0</td>\n",
       "      <td>0</td>\n",
       "      <td>0</td>\n",
       "      <td>0</td>\n",
       "      <td>0</td>\n",
       "      <td>0</td>\n",
       "      <td>0</td>\n",
       "      <td>0</td>\n",
       "      <td>0</td>\n",
       "      <td>0</td>\n",
       "      <td>0</td>\n",
       "      <td>0</td>\n",
       "      <td>0</td>\n",
       "      <td>0</td>\n",
       "      <td>0</td>\n",
       "      <td>0</td>\n",
       "      <td>0</td>\n",
       "      <td>0</td>\n",
       "      <td>0</td>\n",
       "      <td>0</td>\n",
       "      <td>0</td>\n",
       "      <td>0</td>\n",
       "      <td>0</td>\n",
       "      <td>0</td>\n",
       "      <td>0</td>\n",
       "      <td>0</td>\n",
       "      <td>0</td>\n",
       "      <td>0</td>\n",
       "      <td>0</td>\n",
       "      <td>0</td>\n",
       "      <td>0</td>\n",
       "      <td>0</td>\n",
       "      <td>0</td>\n",
       "      <td>0</td>\n",
       "      <td>0</td>\n",
       "      <td>...</td>\n",
       "      <td>0</td>\n",
       "      <td>0</td>\n",
       "      <td>0</td>\n",
       "      <td>0</td>\n",
       "      <td>0</td>\n",
       "      <td>0</td>\n",
       "      <td>0</td>\n",
       "      <td>0</td>\n",
       "      <td>0</td>\n",
       "      <td>0</td>\n",
       "      <td>0</td>\n",
       "      <td>0</td>\n",
       "      <td>0</td>\n",
       "      <td>0</td>\n",
       "      <td>0</td>\n",
       "      <td>0</td>\n",
       "      <td>0</td>\n",
       "      <td>0</td>\n",
       "      <td>0</td>\n",
       "      <td>0</td>\n",
       "      <td>0</td>\n",
       "      <td>0</td>\n",
       "      <td>0</td>\n",
       "      <td>0</td>\n",
       "      <td>0</td>\n",
       "      <td>0</td>\n",
       "      <td>0</td>\n",
       "      <td>0</td>\n",
       "      <td>0</td>\n",
       "      <td>0</td>\n",
       "      <td>0</td>\n",
       "      <td>0</td>\n",
       "      <td>0</td>\n",
       "      <td>0</td>\n",
       "      <td>0</td>\n",
       "      <td>0</td>\n",
       "      <td>0</td>\n",
       "      <td>0</td>\n",
       "      <td>0</td>\n",
       "      <td>0</td>\n",
       "    </tr>\n",
       "    <tr>\n",
       "      <th>3</th>\n",
       "      <td>3</td>\n",
       "      <td>0</td>\n",
       "      <td>0</td>\n",
       "      <td>0</td>\n",
       "      <td>0</td>\n",
       "      <td>0</td>\n",
       "      <td>0</td>\n",
       "      <td>0</td>\n",
       "      <td>0</td>\n",
       "      <td>0</td>\n",
       "      <td>0</td>\n",
       "      <td>0</td>\n",
       "      <td>0</td>\n",
       "      <td>0</td>\n",
       "      <td>0</td>\n",
       "      <td>0</td>\n",
       "      <td>0</td>\n",
       "      <td>0</td>\n",
       "      <td>0</td>\n",
       "      <td>0</td>\n",
       "      <td>0</td>\n",
       "      <td>0</td>\n",
       "      <td>0</td>\n",
       "      <td>0</td>\n",
       "      <td>0</td>\n",
       "      <td>0</td>\n",
       "      <td>0</td>\n",
       "      <td>0</td>\n",
       "      <td>0</td>\n",
       "      <td>0</td>\n",
       "      <td>0</td>\n",
       "      <td>0</td>\n",
       "      <td>0</td>\n",
       "      <td>0</td>\n",
       "      <td>0</td>\n",
       "      <td>0</td>\n",
       "      <td>0</td>\n",
       "      <td>0</td>\n",
       "      <td>0</td>\n",
       "      <td>0</td>\n",
       "      <td>...</td>\n",
       "      <td>0</td>\n",
       "      <td>0</td>\n",
       "      <td>0</td>\n",
       "      <td>0</td>\n",
       "      <td>0</td>\n",
       "      <td>0</td>\n",
       "      <td>0</td>\n",
       "      <td>0</td>\n",
       "      <td>0</td>\n",
       "      <td>0</td>\n",
       "      <td>0</td>\n",
       "      <td>0</td>\n",
       "      <td>0</td>\n",
       "      <td>0</td>\n",
       "      <td>0</td>\n",
       "      <td>0</td>\n",
       "      <td>0</td>\n",
       "      <td>0</td>\n",
       "      <td>0</td>\n",
       "      <td>0</td>\n",
       "      <td>0</td>\n",
       "      <td>0</td>\n",
       "      <td>0</td>\n",
       "      <td>0</td>\n",
       "      <td>0</td>\n",
       "      <td>0</td>\n",
       "      <td>0</td>\n",
       "      <td>0</td>\n",
       "      <td>0</td>\n",
       "      <td>0</td>\n",
       "      <td>0</td>\n",
       "      <td>0</td>\n",
       "      <td>0</td>\n",
       "      <td>0</td>\n",
       "      <td>0</td>\n",
       "      <td>0</td>\n",
       "      <td>0</td>\n",
       "      <td>0</td>\n",
       "      <td>0</td>\n",
       "      <td>0</td>\n",
       "    </tr>\n",
       "    <tr>\n",
       "      <th>4</th>\n",
       "      <td>4</td>\n",
       "      <td>0</td>\n",
       "      <td>0</td>\n",
       "      <td>0</td>\n",
       "      <td>0</td>\n",
       "      <td>0</td>\n",
       "      <td>0</td>\n",
       "      <td>0</td>\n",
       "      <td>0</td>\n",
       "      <td>0</td>\n",
       "      <td>0</td>\n",
       "      <td>0</td>\n",
       "      <td>0</td>\n",
       "      <td>0</td>\n",
       "      <td>0</td>\n",
       "      <td>0</td>\n",
       "      <td>0</td>\n",
       "      <td>0</td>\n",
       "      <td>0</td>\n",
       "      <td>0</td>\n",
       "      <td>0</td>\n",
       "      <td>0</td>\n",
       "      <td>0</td>\n",
       "      <td>0</td>\n",
       "      <td>0</td>\n",
       "      <td>0</td>\n",
       "      <td>0</td>\n",
       "      <td>0</td>\n",
       "      <td>0</td>\n",
       "      <td>0</td>\n",
       "      <td>0</td>\n",
       "      <td>0</td>\n",
       "      <td>0</td>\n",
       "      <td>0</td>\n",
       "      <td>0</td>\n",
       "      <td>0</td>\n",
       "      <td>0</td>\n",
       "      <td>0</td>\n",
       "      <td>0</td>\n",
       "      <td>0</td>\n",
       "      <td>...</td>\n",
       "      <td>0</td>\n",
       "      <td>0</td>\n",
       "      <td>0</td>\n",
       "      <td>0</td>\n",
       "      <td>0</td>\n",
       "      <td>0</td>\n",
       "      <td>0</td>\n",
       "      <td>0</td>\n",
       "      <td>0</td>\n",
       "      <td>0</td>\n",
       "      <td>0</td>\n",
       "      <td>0</td>\n",
       "      <td>0</td>\n",
       "      <td>0</td>\n",
       "      <td>0</td>\n",
       "      <td>0</td>\n",
       "      <td>0</td>\n",
       "      <td>0</td>\n",
       "      <td>0</td>\n",
       "      <td>0</td>\n",
       "      <td>0</td>\n",
       "      <td>0</td>\n",
       "      <td>0</td>\n",
       "      <td>0</td>\n",
       "      <td>0</td>\n",
       "      <td>0</td>\n",
       "      <td>0</td>\n",
       "      <td>0</td>\n",
       "      <td>0</td>\n",
       "      <td>0</td>\n",
       "      <td>0</td>\n",
       "      <td>0</td>\n",
       "      <td>0</td>\n",
       "      <td>0</td>\n",
       "      <td>0</td>\n",
       "      <td>0</td>\n",
       "      <td>0</td>\n",
       "      <td>0</td>\n",
       "      <td>0</td>\n",
       "      <td>0</td>\n",
       "    </tr>\n",
       "  </tbody>\n",
       "</table>\n",
       "<p>5 rows × 785 columns</p>\n",
       "</div>"
      ],
      "text/plain": [
       "   id  pixel0  pixel1  pixel2  ...  pixel780  pixel781  pixel782  pixel783\n",
       "0   0       0       0       0  ...         0         0         0         0\n",
       "1   1       0       0       0  ...         0         0         0         0\n",
       "2   2       0       0       0  ...         0         0         0         0\n",
       "3   3       0       0       0  ...         0         0         0         0\n",
       "4   4       0       0       0  ...         0         0         0         0\n",
       "\n",
       "[5 rows x 785 columns]"
      ]
     },
     "execution_count": 5,
     "metadata": {
      "tags": []
     },
     "output_type": "execute_result"
    }
   ],
   "source": [
    "MNIST_test.head()"
   ]
  },
  {
   "cell_type": "code",
   "execution_count": null,
   "metadata": {
    "id": "QNoPK83CvNbA"
   },
   "outputs": [],
   "source": [
    "X_train, y_train = MNIST_train.drop('label', axis=1), MNIST_train['label']\n",
    "\n",
    "X_test=MNIST_test.drop('id', axis=1)"
   ]
  },
  {
   "cell_type": "code",
   "execution_count": null,
   "metadata": {
    "colab": {
     "base_uri": "https://localhost:8080/"
    },
    "id": "LWDt0loe5bld",
    "outputId": "e6065a18-8658-40ec-da44-36db424e838a"
   },
   "outputs": [
    {
     "data": {
      "text/plain": [
       "(60000, 784)"
      ]
     },
     "execution_count": 7,
     "metadata": {
      "tags": []
     },
     "output_type": "execute_result"
    }
   ],
   "source": [
    "X_train.shape"
   ]
  },
  {
   "cell_type": "code",
   "execution_count": null,
   "metadata": {
    "id": "fi_g4_cs72N9"
   },
   "outputs": [],
   "source": [
    "X_train = X_train / 255.0\n",
    "X_test = X_test / 255.0\n",
    "X_valid, X_train = X_train[:5000], X_train[5000:]\n",
    "y_valid, y_train = y_train[:5000], y_train[5000:]\n",
    "\n",
    "tf.random.set_seed(42)\n",
    "np.random.seed(42)"
   ]
  },
  {
   "cell_type": "code",
   "execution_count": null,
   "metadata": {
    "id": "sEG1aqMx5H79"
   },
   "outputs": [],
   "source": [
    "# Define Sequential model with 3 layers\n",
    "\n",
    "model = keras.Sequential(\n",
    "  [\n",
    "    layers.Dense(784, activation=\"relu\", name=\"layer1\"), #784 Nodes\n",
    "    layers.Dense(100, activation=\"relu\", name=\"layer2\"), #100 hidden nodes, 1 hidden layer\n",
    "    layers.Dense(10, activation= 'softmax', name=\"layer3\"),\n",
    "  ]\n",
    ")\n",
    "\n",
    "model.compile(loss=\"sparse_categorical_crossentropy\",\n",
    "              optimizer=keras.optimizers.SGD(lr=1e-3),\n",
    "              metrics=[\"accuracy\"])"
   ]
  },
  {
   "cell_type": "code",
   "execution_count": null,
   "metadata": {
    "colab": {
     "base_uri": "https://localhost:8080/"
    },
    "id": "XjMABVCh7gh_",
    "outputId": "f79264c4-8f2b-439a-a182-e9d458c2dfd9"
   },
   "outputs": [
    {
     "name": "stdout",
     "output_type": "stream",
     "text": [
      "Epoch 1/10\n",
      "1719/1719 [==============================] - 4s 2ms/step - loss: 2.0470 - accuracy: 0.4228 - val_loss: 1.2145 - val_accuracy: 0.8434\n",
      "Epoch 2/10\n",
      "1719/1719 [==============================] - 4s 2ms/step - loss: 0.9866 - accuracy: 0.8732 - val_loss: 0.6251 - val_accuracy: 0.8846\n",
      "Epoch 3/10\n",
      "1719/1719 [==============================] - 4s 2ms/step - loss: 0.5244 - accuracy: 0.9060 - val_loss: 0.4538 - val_accuracy: 0.8992\n",
      "Epoch 4/10\n",
      "1719/1719 [==============================] - 4s 2ms/step - loss: 0.3721 - accuracy: 0.9210 - val_loss: 0.3819 - val_accuracy: 0.9102\n",
      "Epoch 5/10\n",
      "1719/1719 [==============================] - 4s 2ms/step - loss: 0.2972 - accuracy: 0.9322 - val_loss: 0.3457 - val_accuracy: 0.9168\n",
      "Epoch 6/10\n",
      "1719/1719 [==============================] - 4s 2ms/step - loss: 0.2573 - accuracy: 0.9387 - val_loss: 0.3239 - val_accuracy: 0.9208\n",
      "Epoch 7/10\n",
      "1719/1719 [==============================] - 4s 2ms/step - loss: 0.2310 - accuracy: 0.9443 - val_loss: 0.3079 - val_accuracy: 0.9240\n",
      "Epoch 8/10\n",
      "1719/1719 [==============================] - 4s 2ms/step - loss: 0.2114 - accuracy: 0.9471 - val_loss: 0.2965 - val_accuracy: 0.9266\n",
      "Epoch 9/10\n",
      "1719/1719 [==============================] - 4s 2ms/step - loss: 0.1943 - accuracy: 0.9502 - val_loss: 0.2896 - val_accuracy: 0.9280\n",
      "Epoch 10/10\n",
      "1719/1719 [==============================] - 4s 2ms/step - loss: 0.1860 - accuracy: 0.9513 - val_loss: 0.2839 - val_accuracy: 0.9290\n",
      "CPU times: user 42.9 s, sys: 5.13 s, total: 48 s\n",
      "Wall time: 37.9 s\n"
     ]
    }
   ],
   "source": [
    "%time history = model.fit(X_train, y_train, epochs=10, validation_data=(X_valid, y_valid))"
   ]
  },
  {
   "cell_type": "code",
   "execution_count": null,
   "metadata": {
    "colab": {
     "base_uri": "https://localhost:8080/"
    },
    "id": "17kfizHV80f0",
    "outputId": "93822a22-105e-48be-9f38-50d6c86255ad"
   },
   "outputs": [
    {
     "name": "stdout",
     "output_type": "stream",
     "text": [
      "[[7.82915522e-05 5.38783206e-05 3.69442423e-04 ... 6.62148884e-03\n",
      "  4.72776861e-07 5.76562743e-05]\n",
      " [9.95218575e-01 2.10866076e-03 7.97443790e-05 ... 8.56724364e-05\n",
      "  1.46563724e-03 9.73540184e-04]\n",
      " [5.02179086e-04 7.53412722e-03 9.53769088e-01 ... 1.00363141e-04\n",
      "  1.27425045e-03 9.04336703e-05]\n",
      " ...\n",
      " [2.69343075e-03 9.95941460e-01 2.26782562e-04 ... 1.32610703e-05\n",
      "  1.13286165e-04 2.16884189e-04]\n",
      " [1.42008741e-03 2.57167779e-03 3.88672088e-05 ... 1.40739888e-01\n",
      "  1.35658775e-03 4.81155608e-03]\n",
      " [3.26120062e-03 5.40218875e-03 4.05112207e-02 ... 1.48650229e-01\n",
      "  1.87951387e-04 1.58611089e-02]]\n"
     ]
    }
   ],
   "source": [
    "y_pred = model.predict(X_test)\n",
    "print(y_pred)"
   ]
  },
  {
   "cell_type": "code",
   "execution_count": null,
   "metadata": {
    "colab": {
     "base_uri": "https://localhost:8080/"
    },
    "id": "TqmDk0aP9VnL",
    "outputId": "2d0afaa5-9a5b-47c1-a022-4af120ae82f3"
   },
   "outputs": [
    {
     "data": {
      "text/plain": [
       "(5000, 10)"
      ]
     },
     "execution_count": 16,
     "metadata": {
      "tags": []
     },
     "output_type": "execute_result"
    }
   ],
   "source": [
    "y_pred.shape"
   ]
  },
  {
   "cell_type": "code",
   "execution_count": null,
   "metadata": {
    "colab": {
     "base_uri": "https://localhost:8080/"
    },
    "id": "JiIjL7BA9d_R",
    "outputId": "b9a916ab-97ba-49f2-f61a-430c8bd39d94"
   },
   "outputs": [
    {
     "data": {
      "text/plain": [
       "array([3, 0, 2, ..., 1, 6, 3])"
      ]
     },
     "execution_count": 33,
     "metadata": {
      "tags": []
     },
     "output_type": "execute_result"
    }
   ],
   "source": [
    "np.argmax(y_pred, axis=1) #these are the predicted classes for each instance in test set "
   ]
  },
  {
   "cell_type": "code",
   "execution_count": null,
   "metadata": {
    "id": "LaYavcco9sVl"
   },
   "outputs": [],
   "source": [
    "#SAVE ABOVE np.argmax AS CSV"
   ]
  },
  {
   "cell_type": "code",
   "execution_count": null,
   "metadata": {
    "id": "fB_DLLR_9uJE"
   },
   "outputs": [],
   "source": [
    "model_25 = keras.Sequential(\n",
    "  [\n",
    "    layers.Dense(784, activation=\"relu\", name=\"layer1\"), #784 Nodes\n",
    "    layers.Dense(25, activation=\"relu\", name=\"layer2\"), #Changes from 100 to 25 nodes in middle layer\n",
    "    layers.Dense(10, activation= 'softmax', name=\"layer3\"),\n",
    "  ]\n",
    ")\n",
    "\n",
    "model_25.compile(loss=\"sparse_categorical_crossentropy\",\n",
    "              optimizer=keras.optimizers.SGD(lr=1e-3),\n",
    "              metrics=[\"accuracy\"])"
   ]
  },
  {
   "cell_type": "code",
   "execution_count": null,
   "metadata": {
    "colab": {
     "base_uri": "https://localhost:8080/"
    },
    "id": "N9HhDOlk9yV4",
    "outputId": "3d71ce94-d54c-47b9-9117-19641c3ac04e"
   },
   "outputs": [
    {
     "name": "stdout",
     "output_type": "stream",
     "text": [
      "Epoch 1/10\n",
      "1719/1719 [==============================] - 5s 2ms/step - loss: 2.0146 - accuracy: 0.3666 - val_loss: 1.2358 - val_accuracy: 0.7644\n",
      "Epoch 2/10\n",
      "1719/1719 [==============================] - 4s 2ms/step - loss: 1.0092 - accuracy: 0.8475 - val_loss: 0.7062 - val_accuracy: 0.8720\n",
      "Epoch 3/10\n",
      "1719/1719 [==============================] - 4s 2ms/step - loss: 0.5799 - accuracy: 0.8946 - val_loss: 0.5244 - val_accuracy: 0.8922\n",
      "Epoch 4/10\n",
      "1719/1719 [==============================] - 4s 2ms/step - loss: 0.4199 - accuracy: 0.9104 - val_loss: 0.4409 - val_accuracy: 0.9042\n",
      "Epoch 5/10\n",
      "1719/1719 [==============================] - 4s 2ms/step - loss: 0.3359 - accuracy: 0.9238 - val_loss: 0.3965 - val_accuracy: 0.9110\n",
      "Epoch 6/10\n",
      "1719/1719 [==============================] - 4s 2ms/step - loss: 0.2891 - accuracy: 0.9313 - val_loss: 0.3676 - val_accuracy: 0.9152\n",
      "Epoch 7/10\n",
      "1719/1719 [==============================] - 4s 2ms/step - loss: 0.2554 - accuracy: 0.9377 - val_loss: 0.3460 - val_accuracy: 0.9184\n",
      "Epoch 8/10\n",
      "1719/1719 [==============================] - 4s 2ms/step - loss: 0.2332 - accuracy: 0.9406 - val_loss: 0.3298 - val_accuracy: 0.9204\n",
      "Epoch 9/10\n",
      "1719/1719 [==============================] - 4s 2ms/step - loss: 0.2128 - accuracy: 0.9450 - val_loss: 0.3196 - val_accuracy: 0.9226\n",
      "Epoch 10/10\n",
      "1719/1719 [==============================] - 4s 2ms/step - loss: 0.2029 - accuracy: 0.9462 - val_loss: 0.3112 - val_accuracy: 0.9240\n",
      "CPU times: user 45.6 s, sys: 5.3 s, total: 50.9 s\n",
      "Wall time: 40.3 s\n"
     ]
    }
   ],
   "source": [
    "%time history = keras.Sequential(\n",
    "  [\n",
    "    layers.Dense(784, activation=\"relu\", name=\"layer1\"), #784 Nodes\n",
    "    layers.Dense(25, activation=\"relu\", name=\"layer2\"), #Changes from 100 to 25 nodes in middle layer\n",
    "    layers.Dense(10, activation= 'softmax', name=\"layer3\"),\n",
    "  ]\n",
    ")\n",
    "\n",
    "model_25.compile(loss=\"sparse_categorical_crossentropy\",\n",
    "              optimizer=keras.optimizers.SGD(lr=1e-3),\n",
    "              metrics=[\"accuracy\"])"
   ]
  },
  {
   "cell_type": "code",
   "execution_count": null,
   "metadata": {
    "colab": {
     "base_uri": "https://localhost:8080/"
    },
    "id": "AyF-waCy91bf",
    "outputId": "70962a4c-9d95-4095-ef0c-d9973bc9c38b"
   },
   "outputs": [
    {
     "name": "stdout",
     "output_type": "stream",
     "text": [
      "[[6.26811307e-05 3.17284779e-04 6.31646137e-04 ... 1.03583783e-02\n",
      "  7.79210040e-07 1.04003375e-04]\n",
      " [9.86058176e-01 6.73264870e-03 2.12393697e-05 ... 1.83389027e-04\n",
      "  5.53293107e-03 1.07472145e-03]\n",
      " [9.67629821e-05 1.35268236e-03 9.43647563e-01 ... 1.95494550e-03\n",
      "  4.51850425e-03 1.33290282e-03]\n",
      " ...\n",
      " [8.01860634e-03 9.70373154e-01 5.25576936e-04 ... 1.44227024e-03\n",
      "  1.11914182e-03 1.01954332e-02]\n",
      " [2.71674036e-03 1.28639312e-02 5.55170584e-04 ... 1.50052458e-01\n",
      "  7.46092468e-04 2.06199801e-03]\n",
      " [1.31201115e-03 6.06477493e-03 4.71229516e-02 ... 2.18631133e-01\n",
      "  1.73219742e-04 1.27421478e-02]]\n",
      "(5000, 10)\n"
     ]
    },
    {
     "data": {
      "text/plain": [
       "array([3, 0, 2, ..., 1, 6, 3])"
      ]
     },
     "execution_count": 34,
     "metadata": {
      "tags": []
     },
     "output_type": "execute_result"
    }
   ],
   "source": [
    "y_pred_25 = model_25.predict(X_test)\n",
    "print(y_pred_25)\n",
    "print(y_pred_25.shape)\n",
    "np.argmax(y_pred_25, axis=1) #these are the predicted classes for each instance in test set "
   ]
  },
  {
   "cell_type": "code",
   "execution_count": null,
   "metadata": {
    "id": "2vUEKknh-Qvg"
   },
   "outputs": [],
   "source": [
    "#SAVE ABOVE np.argmax AS CSV"
   ]
  },
  {
   "cell_type": "code",
   "execution_count": null,
   "metadata": {
    "id": "twKnSGNa-SWa"
   },
   "outputs": [],
   "source": [
    "model_2_25 = keras.Sequential(\n",
    "  [\n",
    "    layers.Dense(784, activation=\"relu\", name=\"layer1\"), #784 Nodes\n",
    "    layers.Dense(25, activation=\"relu\", name=\"layer2\"), \n",
    "    layers.Dense(25, activation=\"relu\", name=\"layer2_2\"),\n",
    "    layers.Dense(25, activation=\"relu\", name=\"layer2_3\"),\n",
    "    layers.Dense(10, activation= 'softmax', name=\"layer3\"),\n",
    "  ]\n",
    ")\n",
    "\n",
    "model_2_25.compile(loss=\"sparse_categorical_crossentropy\",\n",
    "              optimizer=keras.optimizers.SGD(lr=1e-3),\n",
    "              metrics=[\"accuracy\"])"
   ]
  },
  {
   "cell_type": "code",
   "execution_count": null,
   "metadata": {
    "colab": {
     "base_uri": "https://localhost:8080/"
    },
    "id": "yljbGhKj-Vqb",
    "outputId": "bb72df98-3a80-4b54-9e4a-7c7e06f88b2c"
   },
   "outputs": [
    {
     "name": "stdout",
     "output_type": "stream",
     "text": [
      "Epoch 1/10\n",
      "1719/1719 [==============================] - 5s 3ms/step - loss: 2.2654 - accuracy: 0.1083 - val_loss: 2.1603 - val_accuracy: 0.1160\n",
      "Epoch 2/10\n",
      "1719/1719 [==============================] - 4s 2ms/step - loss: 2.1167 - accuracy: 0.1661 - val_loss: 1.9634 - val_accuracy: 0.2690\n",
      "Epoch 3/10\n",
      "1719/1719 [==============================] - 4s 2ms/step - loss: 1.8766 - accuracy: 0.4002 - val_loss: 1.5300 - val_accuracy: 0.5836\n",
      "Epoch 4/10\n",
      "1719/1719 [==============================] - 4s 2ms/step - loss: 1.3652 - accuracy: 0.6684 - val_loss: 0.9423 - val_accuracy: 0.7290\n",
      "Epoch 5/10\n",
      "1719/1719 [==============================] - 4s 2ms/step - loss: 0.7934 - accuracy: 0.8019 - val_loss: 0.5804 - val_accuracy: 0.8572\n",
      "Epoch 6/10\n",
      "1719/1719 [==============================] - 4s 2ms/step - loss: 0.4814 - accuracy: 0.8836 - val_loss: 0.4699 - val_accuracy: 0.8826\n",
      "Epoch 7/10\n",
      "1719/1719 [==============================] - 4s 2ms/step - loss: 0.3678 - accuracy: 0.9022 - val_loss: 0.4102 - val_accuracy: 0.8962\n",
      "Epoch 8/10\n",
      "1719/1719 [==============================] - 4s 2ms/step - loss: 0.3116 - accuracy: 0.9148 - val_loss: 0.3867 - val_accuracy: 0.9018\n",
      "Epoch 9/10\n",
      "1719/1719 [==============================] - 4s 2ms/step - loss: 0.2707 - accuracy: 0.9249 - val_loss: 0.3616 - val_accuracy: 0.9118\n",
      "Epoch 10/10\n",
      "1719/1719 [==============================] - 4s 2ms/step - loss: 0.2517 - accuracy: 0.9293 - val_loss: 0.3536 - val_accuracy: 0.9134\n",
      "CPU times: user 46.5 s, sys: 5.69 s, total: 52.1 s\n",
      "Wall time: 41.9 s\n"
     ]
    }
   ],
   "source": [
    "%time history = model_2_25.fit(X_train, y_train, epochs=10, validation_data=(X_valid, y_valid))"
   ]
  },
  {
   "cell_type": "code",
   "execution_count": null,
   "metadata": {
    "colab": {
     "base_uri": "https://localhost:8080/"
    },
    "id": "AJd3dYBd-uW5",
    "outputId": "6109ea06-db6b-40d2-d157-e864c9b64ee4"
   },
   "outputs": [
    {
     "name": "stdout",
     "output_type": "stream",
     "text": [
      "[[1.1075933e-04 4.4466610e-06 6.2838639e-03 ... 1.8720099e-03\n",
      "  4.6364907e-08 2.4146860e-04]\n",
      " [9.9339044e-01 1.5360003e-03 4.9452142e-06 ... 1.0978460e-07\n",
      "  4.4316701e-03 5.6911039e-04]\n",
      " [3.1756343e-05 1.1568510e-05 9.9156618e-01 ... 8.5373489e-05\n",
      "  3.8063864e-04 1.2837730e-04]\n",
      " ...\n",
      " [1.1989583e-03 9.7436804e-01 7.5226570e-05 ... 1.4024148e-05\n",
      "  2.4100456e-03 1.7909793e-02]\n",
      " [4.1493342e-05 1.2306364e-04 3.8276507e-06 ... 2.0905353e-01\n",
      "  1.6229799e-04 6.8200422e-03]\n",
      " [2.4331945e-03 4.1812556e-04 1.9626804e-02 ... 8.7630369e-02\n",
      "  2.1020674e-05 1.4627339e-02]]\n",
      "(5000, 10)\n"
     ]
    },
    {
     "data": {
      "text/plain": [
       "array([3, 0, 2, ..., 1, 6, 3])"
      ]
     },
     "execution_count": 37,
     "metadata": {
      "tags": []
     },
     "output_type": "execute_result"
    }
   ],
   "source": [
    "y_pred_2_25 = model_2_25.predict(X_test)\n",
    "print(y_pred_2_25)\n",
    "print(y_pred_2_25.shape)\n",
    "np.argmax(y_pred_2_25, axis=1) #these are the predicted classes for each instance in test set "
   ]
  },
  {
   "cell_type": "code",
   "execution_count": null,
   "metadata": {
    "id": "BFWRkRxS-4xJ"
   },
   "outputs": [],
   "source": [
    "#SAVE ABOVE AS CSV"
   ]
  },
  {
   "cell_type": "code",
   "execution_count": null,
   "metadata": {
    "id": "G3p9oUzc-6mF"
   },
   "outputs": [],
   "source": [
    "model_2_100 = keras.Sequential(\n",
    "  [\n",
    "    layers.Dense(784, activation=\"relu\", name=\"layer1\"), #784 Nodes\n",
    "    layers.Dense(100, activation=\"relu\", name=\"layer2\"), \n",
    "    layers.Dense(100, activation=\"relu\", name=\"layer2_2\"),\n",
    "    layers.Dense(100, activation=\"relu\", name=\"layer2_3\"),\n",
    "    layers.Dense(10, activation= 'softmax', name=\"layer3\"),\n",
    "  ]\n",
    ")\n",
    "\n",
    "model_2_100.compile(loss=\"sparse_categorical_crossentropy\",\n",
    "              optimizer=keras.optimizers.SGD(lr=1e-3),\n",
    "              metrics=[\"accuracy\"])"
   ]
  },
  {
   "cell_type": "code",
   "execution_count": null,
   "metadata": {
    "colab": {
     "base_uri": "https://localhost:8080/"
    },
    "id": "MiWRzO1V-8WP",
    "outputId": "c57b97e5-2bc1-47c1-8cf5-37d1d7549c76"
   },
   "outputs": [
    {
     "name": "stdout",
     "output_type": "stream",
     "text": [
      "Epoch 1/10\n",
      "1719/1719 [==============================] - 5s 2ms/step - loss: 2.2579 - accuracy: 0.1696 - val_loss: 1.9732 - val_accuracy: 0.4606\n",
      "Epoch 2/10\n",
      "1719/1719 [==============================] - 4s 2ms/step - loss: 1.7065 - accuracy: 0.6426 - val_loss: 0.8514 - val_accuracy: 0.8638\n",
      "Epoch 3/10\n",
      "1719/1719 [==============================] - 4s 2ms/step - loss: 0.6585 - accuracy: 0.8851 - val_loss: 0.4764 - val_accuracy: 0.8890\n",
      "Epoch 4/10\n",
      "1719/1719 [==============================] - 4s 2ms/step - loss: 0.3612 - accuracy: 0.9177 - val_loss: 0.3796 - val_accuracy: 0.9062\n",
      "Epoch 5/10\n",
      "1719/1719 [==============================] - 4s 2ms/step - loss: 0.2623 - accuracy: 0.9342 - val_loss: 0.3444 - val_accuracy: 0.9146\n",
      "Epoch 6/10\n",
      "1719/1719 [==============================] - 4s 2ms/step - loss: 0.2208 - accuracy: 0.9414 - val_loss: 0.3250 - val_accuracy: 0.9196\n",
      "Epoch 7/10\n",
      "1719/1719 [==============================] - 4s 2ms/step - loss: 0.1939 - accuracy: 0.9478 - val_loss: 0.3071 - val_accuracy: 0.9238\n",
      "Epoch 8/10\n",
      "1719/1719 [==============================] - 4s 2ms/step - loss: 0.1750 - accuracy: 0.9504 - val_loss: 0.2967 - val_accuracy: 0.9266\n",
      "Epoch 9/10\n",
      "1719/1719 [==============================] - 4s 2ms/step - loss: 0.1583 - accuracy: 0.9553 - val_loss: 0.2893 - val_accuracy: 0.9292\n",
      "Epoch 10/10\n",
      "1719/1719 [==============================] - 4s 2ms/step - loss: 0.1510 - accuracy: 0.9569 - val_loss: 0.2860 - val_accuracy: 0.9300\n",
      "CPU times: user 45.6 s, sys: 5.23 s, total: 50.9 s\n",
      "Wall time: 40.5 s\n"
     ]
    }
   ],
   "source": [
    "%time history = model_2_100.fit(X_train, y_train, epochs=10, validation_data=(X_valid, y_valid))"
   ]
  },
  {
   "cell_type": "code",
   "execution_count": null,
   "metadata": {
    "colab": {
     "base_uri": "https://localhost:8080/"
    },
    "id": "eckgs39O_GjK",
    "outputId": "aada94bd-7593-4ef3-a96e-b8ab8bf59ff8"
   },
   "outputs": [
    {
     "name": "stdout",
     "output_type": "stream",
     "text": [
      "[[2.9006733e-05 1.2193653e-05 2.4667667e-04 ... 4.3842616e-03\n",
      "  1.4061388e-07 2.5092022e-06]\n",
      " [9.9682581e-01 1.6541600e-03 1.8947580e-05 ... 4.4810040e-05\n",
      "  8.8215841e-04 5.6080299e-04]\n",
      " [6.7755078e-05 7.2706089e-04 9.7068936e-01 ... 4.6954956e-05\n",
      "  5.6141318e-04 4.0946248e-05]\n",
      " ...\n",
      " [2.9262768e-03 9.9100566e-01 9.9146680e-05 ... 1.3576997e-04\n",
      "  6.7136023e-04 1.9035401e-03]\n",
      " [3.9726199e-04 2.2452166e-03 3.4476557e-07 ... 8.5847765e-02\n",
      "  7.4017141e-04 8.4708980e-04]\n",
      " [4.1686068e-03 6.6827778e-03 3.2401767e-02 ... 2.3307298e-01\n",
      "  1.9379286e-04 7.2839856e-03]]\n",
      "(5000, 10)\n"
     ]
    },
    {
     "data": {
      "text/plain": [
       "array([3, 0, 2, ..., 1, 6, 3])"
      ]
     },
     "execution_count": 73,
     "metadata": {
      "tags": []
     },
     "output_type": "execute_result"
    }
   ],
   "source": [
    "y_pred_2_100 = model_2_100.predict(X_test)\n",
    "print(y_pred_2_100)\n",
    "print(y_pred_2_100.shape)\n",
    "np.argmax(y_pred_2_100, axis=1) #these are the predicted classes for each instance in test set "
   ]
  },
  {
   "cell_type": "markdown",
   "metadata": {
    "id": "nFwdPD9qFA3d"
   },
   "source": [
    "#**DIFFERENT OPTIMIZER**"
   ]
  },
  {
   "cell_type": "code",
   "execution_count": null,
   "metadata": {
    "id": "6GlgjIN4OOWm"
   },
   "outputs": [],
   "source": [
    "model_2_100_opt2 = keras.Sequential(\n",
    "  [\n",
    "    layers.Dense(784, activation=\"relu\", name=\"layer1\"), #784 Nodes\n",
    "    layers.Dense(100, activation=\"relu\", name=\"layer2\"), \n",
    "    layers.Dense(100, activation=\"relu\", name=\"layer2_2\"),\n",
    "    layers.Dense(100, activation=\"relu\", name=\"layer2_3\"),\n",
    "    layers.Dense(10, activation= 'softmax', name=\"layer3\"),\n",
    "  ]\n",
    ")\n",
    "\n",
    "model_2_100_opt2.compile(loss=\"sparse_categorical_crossentropy\",\n",
    "              optimizer = keras.optimizers.RMSprop(lr=0.001, rho=0.9),\n",
    "              metrics=[\"accuracy\"])"
   ]
  },
  {
   "cell_type": "code",
   "execution_count": null,
   "metadata": {
    "colab": {
     "base_uri": "https://localhost:8080/"
    },
    "id": "zeeBMx7NOrPs",
    "outputId": "79c79dfe-24f6-4daa-976b-297c70c16afa"
   },
   "outputs": [
    {
     "name": "stdout",
     "output_type": "stream",
     "text": [
      "Epoch 1/10\n",
      "1719/1719 [==============================] - 6s 3ms/step - loss: 0.2420 - accuracy: 0.9247 - val_loss: 0.2492 - val_accuracy: 0.9478\n",
      "Epoch 2/10\n",
      "1719/1719 [==============================] - 5s 3ms/step - loss: 0.0557 - accuracy: 0.9863 - val_loss: 0.3961 - val_accuracy: 0.9404\n",
      "Epoch 3/10\n",
      "1719/1719 [==============================] - 5s 3ms/step - loss: 0.0449 - accuracy: 0.9912 - val_loss: 0.2823 - val_accuracy: 0.9578\n",
      "Epoch 4/10\n",
      "1719/1719 [==============================] - 5s 3ms/step - loss: 0.0415 - accuracy: 0.9919 - val_loss: 0.3025 - val_accuracy: 0.9524\n",
      "Epoch 5/10\n",
      "1719/1719 [==============================] - 5s 3ms/step - loss: 0.0454 - accuracy: 0.9926 - val_loss: 0.6099 - val_accuracy: 0.9512\n",
      "Epoch 6/10\n",
      "1719/1719 [==============================] - 5s 3ms/step - loss: 0.0418 - accuracy: 0.9929 - val_loss: 0.7108 - val_accuracy: 0.9470\n",
      "Epoch 7/10\n",
      "1719/1719 [==============================] - 5s 3ms/step - loss: 0.0488 - accuracy: 0.9922 - val_loss: 0.5294 - val_accuracy: 0.9566\n",
      "Epoch 8/10\n",
      "1719/1719 [==============================] - 5s 3ms/step - loss: 0.0417 - accuracy: 0.9936 - val_loss: 0.9088 - val_accuracy: 0.9590\n",
      "Epoch 9/10\n",
      "1719/1719 [==============================] - 5s 3ms/step - loss: 0.0401 - accuracy: 0.9947 - val_loss: 1.0024 - val_accuracy: 0.9516\n",
      "Epoch 10/10\n",
      "1719/1719 [==============================] - 5s 3ms/step - loss: 0.0408 - accuracy: 0.9936 - val_loss: 0.8081 - val_accuracy: 0.9486\n",
      "CPU times: user 55.8 s, sys: 5.51 s, total: 1min 1s\n",
      "Wall time: 49 s\n"
     ]
    }
   ],
   "source": [
    "%time history = model_2_100_opt2.fit(X_train, y_train, epochs=10, validation_data=(X_valid, y_valid))"
   ]
  },
  {
   "cell_type": "code",
   "execution_count": null,
   "metadata": {
    "colab": {
     "base_uri": "https://localhost:8080/"
    },
    "id": "StkRKlzGPDSu",
    "outputId": "9c0bebf3-e6c7-40a3-a8ce-c4de62187187"
   },
   "outputs": [
    {
     "name": "stdout",
     "output_type": "stream",
     "text": [
      "[[1.0705646e-33 0.0000000e+00 0.0000000e+00 ... 7.5464782e-28\n",
      "  0.0000000e+00 0.0000000e+00]\n",
      " [1.0000000e+00 5.1885558e-27 5.6998861e-26 ... 2.2738344e-24\n",
      "  2.0118445e-13 2.6991816e-26]\n",
      " [0.0000000e+00 0.0000000e+00 1.0000000e+00 ... 0.0000000e+00\n",
      "  0.0000000e+00 0.0000000e+00]\n",
      " ...\n",
      " [5.7767937e-23 1.0000000e+00 0.0000000e+00 ... 5.3364084e-30\n",
      "  2.5481179e-32 0.0000000e+00]\n",
      " [2.5297875e-16 5.5446489e-17 3.0502633e-22 ... 6.7544702e-06\n",
      "  8.6908446e-23 7.1782871e-11]\n",
      " [4.3879239e-13 5.7042450e-23 8.7623615e-19 ... 7.0257321e-11\n",
      "  1.2877200e-21 2.0377031e-21]]\n",
      "(5000, 10)\n"
     ]
    },
    {
     "data": {
      "text/plain": [
       "array([3, 0, 2, ..., 1, 6, 3])"
      ]
     },
     "execution_count": 53,
     "metadata": {
      "tags": []
     },
     "output_type": "execute_result"
    }
   ],
   "source": [
    "y_pred_2_100_opt2= model_2_100_opt2.predict(X_test)\n",
    "print(y_pred_2_100_opt2)\n",
    "print(y_pred_2_100_opt2.shape)\n",
    "np.argmax(y_pred_2_100_opt2, axis=1) #these are the predicted classes for each instance in test set "
   ]
  },
  {
   "cell_type": "code",
   "execution_count": null,
   "metadata": {
    "id": "FLtbpJLuPOzo"
   },
   "outputs": [],
   "source": [
    "model_2_25_opt2 = keras.Sequential(\n",
    "  [\n",
    "    layers.Dense(784, activation=\"relu\", name=\"layer1\"), #784 Nodes\n",
    "    layers.Dense(25, activation=\"relu\", name=\"layer2\"), \n",
    "    layers.Dense(25, activation=\"relu\", name=\"layer2_2\"),\n",
    "    layers.Dense(25, activation=\"relu\", name=\"layer2_3\"),\n",
    "    layers.Dense(10, activation= 'softmax', name=\"layer3\"),\n",
    "  ]\n",
    ")\n",
    "\n",
    "model_2_25_opt2.compile(loss=\"sparse_categorical_crossentropy\",\n",
    "              optimizer = keras.optimizers.RMSprop(lr=0.001, rho=0.9),\n",
    "              metrics=[\"accuracy\"])"
   ]
  },
  {
   "cell_type": "code",
   "execution_count": null,
   "metadata": {
    "colab": {
     "base_uri": "https://localhost:8080/"
    },
    "id": "VObZf2B4PSJj",
    "outputId": "a1bffb96-f3c6-4e16-d916-13d2b810ec79"
   },
   "outputs": [
    {
     "name": "stdout",
     "output_type": "stream",
     "text": [
      "Epoch 1/10\n",
      "1719/1719 [==============================] - 6s 3ms/step - loss: 0.3225 - accuracy: 0.9009 - val_loss: 0.2650 - val_accuracy: 0.9478\n",
      "Epoch 2/10\n",
      "1719/1719 [==============================] - 5s 3ms/step - loss: 0.0541 - accuracy: 0.9860 - val_loss: 0.2861 - val_accuracy: 0.9410\n",
      "Epoch 3/10\n",
      "1719/1719 [==============================] - 5s 3ms/step - loss: 0.0373 - accuracy: 0.9901 - val_loss: 0.2626 - val_accuracy: 0.9550\n",
      "Epoch 4/10\n",
      "1719/1719 [==============================] - 5s 3ms/step - loss: 0.0299 - accuracy: 0.9926 - val_loss: 0.2932 - val_accuracy: 0.9544\n",
      "Epoch 5/10\n",
      "1719/1719 [==============================] - 5s 3ms/step - loss: 0.0244 - accuracy: 0.9942 - val_loss: 0.3643 - val_accuracy: 0.9548\n",
      "Epoch 6/10\n",
      "1719/1719 [==============================] - 5s 3ms/step - loss: 0.0226 - accuracy: 0.9954 - val_loss: 0.4322 - val_accuracy: 0.9536\n",
      "Epoch 7/10\n",
      "1719/1719 [==============================] - 5s 3ms/step - loss: 0.0175 - accuracy: 0.9961 - val_loss: 0.4481 - val_accuracy: 0.9594\n",
      "Epoch 8/10\n",
      "1719/1719 [==============================] - 5s 3ms/step - loss: 0.0172 - accuracy: 0.9961 - val_loss: 0.5016 - val_accuracy: 0.9592\n",
      "Epoch 9/10\n",
      "1719/1719 [==============================] - 5s 3ms/step - loss: 0.0139 - accuracy: 0.9973 - val_loss: 0.5783 - val_accuracy: 0.9602\n",
      "Epoch 10/10\n",
      "1719/1719 [==============================] - 5s 3ms/step - loss: 0.0143 - accuracy: 0.9969 - val_loss: 0.6497 - val_accuracy: 0.9548\n",
      "CPU times: user 55.1 s, sys: 5.5 s, total: 1min\n",
      "Wall time: 48.2 s\n"
     ]
    }
   ],
   "source": [
    "%time history = model_2_25_opt2.fit(X_train, y_train, epochs=10, validation_data=(X_valid, y_valid))"
   ]
  },
  {
   "cell_type": "code",
   "execution_count": null,
   "metadata": {
    "colab": {
     "base_uri": "https://localhost:8080/"
    },
    "id": "TSpfP8UeQEZV",
    "outputId": "2a60ee76-cda7-4335-b2c8-527a75ee2c4b"
   },
   "outputs": [
    {
     "name": "stdout",
     "output_type": "stream",
     "text": [
      "[[3.0619941e-11 1.3670253e-23 6.8690784e-20 ... 3.2319890e-11\n",
      "  2.5094984e-21 8.1621527e-27]\n",
      " [1.0000000e+00 6.3239810e-15 4.4274383e-27 ... 4.1068786e-21\n",
      "  2.6502174e-19 6.2929998e-18]\n",
      " [4.5895952e-12 4.1906369e-17 1.0000000e+00 ... 6.3751045e-25\n",
      "  4.3211016e-19 4.7203823e-33]\n",
      " ...\n",
      " [1.8820134e-06 9.9999809e-01 1.7635190e-17 ... 3.4972837e-28\n",
      "  2.9465089e-24 1.6217434e-18]\n",
      " [1.8023973e-14 1.6340161e-12 2.5050305e-22 ... 1.1479281e-11\n",
      "  1.3312681e-13 4.0508447e-12]\n",
      " [1.1785231e-06 5.4550640e-09 6.9305102e-06 ... 2.1926016e-06\n",
      "  1.3518715e-10 1.6033536e-12]]\n",
      "(5000, 10)\n"
     ]
    },
    {
     "data": {
      "text/plain": [
       "array([3, 0, 2, ..., 1, 6, 3])"
      ]
     },
     "execution_count": 60,
     "metadata": {
      "tags": []
     },
     "output_type": "execute_result"
    }
   ],
   "source": [
    "y_pred_2_25_opt2 = model_2_25_opt2.predict(X_test)\n",
    "print(y_pred_2_25_opt2)\n",
    "print(y_pred_2_25_opt2.shape)\n",
    "np.argmax(y_pred_2_25_opt2, axis=1) #these are the predicted classes for each instance in test set "
   ]
  },
  {
   "cell_type": "code",
   "execution_count": null,
   "metadata": {
    "id": "l2z1tFW0PyTo"
   },
   "outputs": [],
   "source": [
    "model_2_25_opt2_layer5 = keras.Sequential(\n",
    "  [\n",
    "    layers.Dense(784, activation=\"relu\", name=\"layer1\"), #784 Nodes\n",
    "    layers.Dense(25, activation=\"relu\", name=\"layer2\"), \n",
    "    layers.Dense(25, activation=\"relu\", name=\"layer2_2\"),\n",
    "    layers.Dense(25, activation=\"relu\", name=\"layer2_3\"),\n",
    "    layers.Dense(25, activation=\"relu\", name=\"layer2_4\"),\n",
    "    layers.Dense(25, activation=\"relu\", name=\"layer2_5\"),\n",
    "    layers.Dense(10, activation= 'softmax', name=\"layer3\"),\n",
    "  ]\n",
    ")\n",
    "\n",
    "model_2_25_opt2_layer5.compile(loss=\"sparse_categorical_crossentropy\",\n",
    "              optimizer = keras.optimizers.RMSprop(lr=0.001, rho=0.9),\n",
    "              metrics=[\"accuracy\"])"
   ]
  },
  {
   "cell_type": "code",
   "execution_count": null,
   "metadata": {
    "colab": {
     "base_uri": "https://localhost:8080/"
    },
    "id": "bqKVy456QBag",
    "outputId": "7469f431-8a57-49f2-c2a7-fcd3276d8fd7"
   },
   "outputs": [
    {
     "name": "stdout",
     "output_type": "stream",
     "text": [
      "Epoch 1/10\n",
      "1719/1719 [==============================] - 6s 3ms/step - loss: 0.3688 - accuracy: 0.8781 - val_loss: 0.2805 - val_accuracy: 0.9394\n",
      "Epoch 2/10\n",
      "1719/1719 [==============================] - 5s 3ms/step - loss: 0.0611 - accuracy: 0.9830 - val_loss: 0.3307 - val_accuracy: 0.9384\n",
      "Epoch 3/10\n",
      "1719/1719 [==============================] - 5s 3ms/step - loss: 0.0430 - accuracy: 0.9895 - val_loss: 0.2480 - val_accuracy: 0.9574\n",
      "Epoch 4/10\n",
      "1719/1719 [==============================] - 5s 3ms/step - loss: 0.0370 - accuracy: 0.9911 - val_loss: 0.3962 - val_accuracy: 0.9368\n",
      "Epoch 5/10\n",
      "1719/1719 [==============================] - 5s 3ms/step - loss: 0.0327 - accuracy: 0.9930 - val_loss: 0.3527 - val_accuracy: 0.9564\n",
      "Epoch 6/10\n",
      "1719/1719 [==============================] - 5s 3ms/step - loss: 0.0328 - accuracy: 0.9935 - val_loss: 0.3221 - val_accuracy: 0.9530\n",
      "Epoch 7/10\n",
      "1719/1719 [==============================] - 5s 3ms/step - loss: 0.0259 - accuracy: 0.9945 - val_loss: 0.3429 - val_accuracy: 0.9574\n",
      "Epoch 8/10\n",
      "1719/1719 [==============================] - 5s 3ms/step - loss: 0.0230 - accuracy: 0.9954 - val_loss: 0.4059 - val_accuracy: 0.9560\n",
      "Epoch 9/10\n",
      "1719/1719 [==============================] - 5s 3ms/step - loss: 0.0251 - accuracy: 0.9953 - val_loss: 0.5171 - val_accuracy: 0.9538\n",
      "Epoch 10/10\n",
      "1719/1719 [==============================] - 5s 3ms/step - loss: 0.0251 - accuracy: 0.9956 - val_loss: 0.4688 - val_accuracy: 0.9586\n",
      "CPU times: user 1min, sys: 5.97 s, total: 1min 6s\n",
      "Wall time: 53.9 s\n"
     ]
    }
   ],
   "source": [
    "%time history = model_2_25_opt2_layer5.fit(X_train, y_train, epochs=10, validation_data=(X_valid, y_valid))"
   ]
  },
  {
   "cell_type": "code",
   "execution_count": null,
   "metadata": {
    "colab": {
     "base_uri": "https://localhost:8080/"
    },
    "id": "E4WN7DpbQYHG",
    "outputId": "5592b2ce-6279-4265-f21b-ad725c34dfc1"
   },
   "outputs": [
    {
     "name": "stdout",
     "output_type": "stream",
     "text": [
      "[[7.1867874e-15 2.2956566e-18 3.8496229e-18 ... 5.9298694e-12\n",
      "  1.7024296e-27 1.5916893e-34]\n",
      " [1.0000000e+00 3.9153833e-24 1.3754389e-27 ... 6.3647435e-28\n",
      "  9.5146088e-19 4.8698204e-38]\n",
      " [8.3773380e-15 3.4186449e-15 1.0000000e+00 ... 1.6892491e-23\n",
      "  0.0000000e+00 0.0000000e+00]\n",
      " ...\n",
      " [4.6279893e-05 9.9995375e-01 2.3779719e-16 ... 1.1872189e-18\n",
      "  7.0044025e-18 4.8840335e-15]\n",
      " [3.1742947e-17 1.0741989e-15 4.6924886e-23 ... 5.8311109e-13\n",
      "  2.5128467e-17 5.9571014e-15]\n",
      " [4.8277737e-08 5.0337507e-09 4.5693574e-10 ... 7.7491552e-07\n",
      "  1.9918240e-13 1.8626774e-17]]\n",
      "(5000, 10)\n"
     ]
    },
    {
     "data": {
      "text/plain": [
       "array([3, 0, 2, ..., 1, 6, 3])"
      ]
     },
     "execution_count": 62,
     "metadata": {
      "tags": []
     },
     "output_type": "execute_result"
    }
   ],
   "source": [
    "y_pred_2_25_opt2_layer5 = model_2_25_opt2_layer5.predict(X_test)\n",
    "print(y_pred_2_25_opt2_layer5)\n",
    "print(y_pred_2_25_opt2_layer5.shape)\n",
    "np.argmax(y_pred_2_25_opt2_layer5, axis=1) #these are the predicted classes for each instance in test set "
   ]
  },
  {
   "cell_type": "code",
   "execution_count": null,
   "metadata": {
    "id": "zwjroHYpQYiW"
   },
   "outputs": [],
   "source": [
    "model_2_100_opt2_layer5 = keras.Sequential(\n",
    "  [\n",
    "    layers.Dense(784, activation=\"relu\", name=\"layer1\"), #784 Nodes\n",
    "    layers.Dense(100, activation=\"relu\", name=\"layer2\"), \n",
    "    layers.Dense(100, activation=\"relu\", name=\"layer2_2\"),\n",
    "    layers.Dense(100, activation=\"relu\", name=\"layer2_3\"),\n",
    "    layers.Dense(100, activation=\"relu\", name=\"layer2_4\"),\n",
    "    layers.Dense(100, activation=\"relu\", name=\"layer2_5\"),\n",
    "    layers.Dense(10, activation= 'softmax', name=\"layer3\"),\n",
    "  ]\n",
    ")\n",
    "\n",
    "model_2_100_opt2_layer5.compile(loss=\"sparse_categorical_crossentropy\",\n",
    "              optimizer = keras.optimizers.RMSprop(lr=0.001, rho=0.9),\n",
    "              metrics=[\"accuracy\"])"
   ]
  },
  {
   "cell_type": "code",
   "execution_count": null,
   "metadata": {
    "colab": {
     "base_uri": "https://localhost:8080/"
    },
    "id": "2taVe8jbQ37q",
    "outputId": "6c98ae19-9ef6-4b2c-9225-64e015c88586"
   },
   "outputs": [
    {
     "name": "stdout",
     "output_type": "stream",
     "text": [
      "Epoch 1/10\n",
      "1719/1719 [==============================] - 6s 3ms/step - loss: 0.2985 - accuracy: 0.9074 - val_loss: 0.2988 - val_accuracy: 0.9344\n",
      "Epoch 2/10\n",
      "1719/1719 [==============================] - 5s 3ms/step - loss: 0.0658 - accuracy: 0.9846 - val_loss: 0.3183 - val_accuracy: 0.9478\n",
      "Epoch 3/10\n",
      "1719/1719 [==============================] - 5s 3ms/step - loss: 0.0623 - accuracy: 0.9880 - val_loss: 0.2698 - val_accuracy: 0.9542\n",
      "Epoch 4/10\n",
      "1719/1719 [==============================] - 5s 3ms/step - loss: 0.0647 - accuracy: 0.9895 - val_loss: 0.5470 - val_accuracy: 0.9354\n",
      "Epoch 5/10\n",
      "1719/1719 [==============================] - 5s 3ms/step - loss: 0.0796 - accuracy: 0.9897 - val_loss: 1.0880 - val_accuracy: 0.9508\n",
      "Epoch 6/10\n",
      "1719/1719 [==============================] - 5s 3ms/step - loss: 0.1180 - accuracy: 0.9894 - val_loss: 0.4701 - val_accuracy: 0.9420\n",
      "Epoch 7/10\n",
      "1719/1719 [==============================] - 5s 3ms/step - loss: 0.0757 - accuracy: 0.9907 - val_loss: 0.5719 - val_accuracy: 0.9568\n",
      "Epoch 8/10\n",
      "1719/1719 [==============================] - 5s 3ms/step - loss: 0.0871 - accuracy: 0.9907 - val_loss: 0.7901 - val_accuracy: 0.9596\n",
      "Epoch 9/10\n",
      "1719/1719 [==============================] - 5s 3ms/step - loss: 0.0910 - accuracy: 0.9919 - val_loss: 1.8643 - val_accuracy: 0.9428\n",
      "Epoch 10/10\n",
      "1719/1719 [==============================] - 5s 3ms/step - loss: 0.0806 - accuracy: 0.9908 - val_loss: 1.1824 - val_accuracy: 0.9512\n",
      "CPU times: user 1min, sys: 5.87 s, total: 1min 6s\n",
      "Wall time: 53.2 s\n"
     ]
    }
   ],
   "source": [
    "%time history = model_2_100_opt2_layer5.fit(X_train, y_train, epochs=10, validation_data=(X_valid, y_valid))"
   ]
  },
  {
   "cell_type": "code",
   "execution_count": null,
   "metadata": {
    "colab": {
     "base_uri": "https://localhost:8080/"
    },
    "id": "TlJ8ij6wQ_ht",
    "outputId": "45f4efea-f773-4a8a-be23-7c23d6c5bbfb"
   },
   "outputs": [
    {
     "name": "stdout",
     "output_type": "stream",
     "text": [
      "[[2.3567978e-22 0.0000000e+00 2.3646956e-37 ... 2.0915286e-24\n",
      "  3.7517699e-37 0.0000000e+00]\n",
      " [1.0000000e+00 0.0000000e+00 0.0000000e+00 ... 0.0000000e+00\n",
      "  3.6752400e-34 0.0000000e+00]\n",
      " [1.5629971e-31 0.0000000e+00 1.0000000e+00 ... 0.0000000e+00\n",
      "  0.0000000e+00 0.0000000e+00]\n",
      " ...\n",
      " [2.5822962e-06 9.9999738e-01 1.9686020e-15 ... 4.7535632e-11\n",
      "  1.4682948e-10 1.2726593e-16]\n",
      " [3.8173408e-22 2.8534778e-22 3.9804455e-37 ... 6.8834018e-12\n",
      "  6.5883891e-27 3.2822986e-10]\n",
      " [1.0207655e-09 6.2484895e-16 4.1444919e-14 ... 1.1519238e-08\n",
      "  1.4829884e-13 2.4366496e-17]]\n",
      "(5000, 10)\n"
     ]
    },
    {
     "data": {
      "text/plain": [
       "array([3, 0, 2, ..., 1, 6, 3])"
      ]
     },
     "execution_count": 66,
     "metadata": {
      "tags": []
     },
     "output_type": "execute_result"
    }
   ],
   "source": [
    "y_pred_2_100_opt2_layer5= model_2_100_opt2_layer5.predict(X_test)\n",
    "print(y_pred_2_100_opt2_layer5)\n",
    "print(y_pred_2_100_opt2_layer5.shape)\n",
    "np.argmax(y_pred_2_100_opt2_layer5, axis=1) #these are the predicted classes for each instance in test set "
   ]
  }
 ],
 "metadata": {
  "accelerator": "GPU",
  "colab": {
   "collapsed_sections": [],
   "name": "Kannada MNIST, Assignment 6.ipynb",
   "provenance": []
  },
  "kernelspec": {
   "display_name": "Python 3",
   "language": "python",
   "name": "python3"
  },
  "language_info": {
   "codemirror_mode": {
    "name": "ipython",
    "version": 3
   },
   "file_extension": ".py",
   "mimetype": "text/x-python",
   "name": "python",
   "nbconvert_exporter": "python",
   "pygments_lexer": "ipython3",
   "version": "3.7.6"
  }
 },
 "nbformat": 4,
 "nbformat_minor": 1
}
