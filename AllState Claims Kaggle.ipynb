{
 "cells": [
  {
   "cell_type": "code",
   "execution_count": 1,
   "metadata": {},
   "outputs": [
    {
     "data": {
      "text/html": [
       "        <script type=\"text/javascript\">\n",
       "        window.PlotlyConfig = {MathJaxConfig: 'local'};\n",
       "        if (window.MathJax) {MathJax.Hub.Config({SVG: {font: \"STIX-Web\"}});}\n",
       "        if (typeof require !== 'undefined') {\n",
       "        require.undef(\"plotly\");\n",
       "        requirejs.config({\n",
       "            paths: {\n",
       "                'plotly': ['https://cdn.plot.ly/plotly-latest.min']\n",
       "            }\n",
       "        });\n",
       "        require(['plotly'], function(Plotly) {\n",
       "            window._Plotly = Plotly;\n",
       "        });\n",
       "        }\n",
       "        </script>\n",
       "        "
      ]
     },
     "metadata": {},
     "output_type": "display_data"
    }
   ],
   "source": [
    "import os\n",
    "import pandas as pd\n",
    "import seaborn as sns\n",
    "import numpy as np\n",
    "import plotly.graph_objs as go\n",
    "from plotly.offline import download_plotlyjs, init_notebook_mode, plot, iplot\n",
    "init_notebook_mode(connected=True)\n",
    "from sklearn import tree\n",
    "from sklearn.metrics import accuracy_score\n",
    "from sklearn import preprocessing\n",
    "from sklearn.preprocessing import MinMaxScaler\n",
    "from sklearn.preprocessing import minmax_scale\n",
    "from sklearn.preprocessing import MaxAbsScaler\n",
    "from sklearn.preprocessing import StandardScaler\n",
    "from sklearn.preprocessing import RobustScaler\n",
    "from sklearn.preprocessing import Normalizer\n",
    "from sklearn.preprocessing import QuantileTransformer\n",
    "from sklearn.preprocessing import PowerTransformer\n",
    "%matplotlib inline\n",
    "import matplotlib as mpl\n",
    "from matplotlib import cm\n",
    "import matplotlib.pyplot as plt\n",
    "from IPython.core.interactiveshell import InteractiveShell\n",
    "from sklearn.linear_model import RidgeCV, ElasticNetCV, LassoCV \n",
    "from sklearn.decomposition import PCA #Principal Component Analysis\n",
    "from sklearn.preprocessing import LabelEncoder #transforms categoricalinto numbers\n",
    "from sklearn.model_selection import KFold\n",
    "from sklearn.model_selection import train_test_split, cross_val_score"
   ]
  },
  {
   "cell_type": "code",
   "execution_count": 2,
   "metadata": {},
   "outputs": [],
   "source": [
    "claims_train= pd.read_csv('train.csv')\n",
    "claims_test= pd.read_csv('test.csv')"
   ]
  },
  {
   "cell_type": "code",
   "execution_count": 3,
   "metadata": {},
   "outputs": [],
   "source": [
    "enc = LabelEncoder()\n",
    "for i in claims_train:\n",
    "    if 'cat' in i:\n",
    "        claims_train[i] = enc.fit_transform(claims_train[i])"
   ]
  },
  {
   "cell_type": "code",
   "execution_count": 4,
   "metadata": {},
   "outputs": [],
   "source": [
    "X = claims_train.drop(['loss', 'id'], axis=1)\n",
    "y = claims_train['loss']"
   ]
  },
  {
   "cell_type": "code",
   "execution_count": 5,
   "metadata": {},
   "outputs": [],
   "source": [
    "#pca = PCA(10).fit(X)\n",
    "#plt.plot(pca.explained_variance_ratio_) #How many features are explaining how spread out the data is\n",
    "#Determine that well use 6 featrues [0:6]"
   ]
  },
  {
   "cell_type": "code",
   "execution_count": 6,
   "metadata": {},
   "outputs": [],
   "source": [
    "#X_pca = PCA(6).fit_transform(X) #Went from 130 dimensions to 6 and didnt lose accuracy\n",
    "#X_pca.shape, X.shape"
   ]
  },
  {
   "cell_type": "code",
   "execution_count": 7,
   "metadata": {},
   "outputs": [],
   "source": [
    "#sns.pairplot(pd.DataFrame(X_pca))\n",
    "#plt.show()"
   ]
  },
  {
   "cell_type": "code",
   "execution_count": 12,
   "metadata": {},
   "outputs": [],
   "source": [
    "def perform_reg(clf, X, y): \n",
    "    #cv = KFold(3) #Determine number of folds (3)\n",
    "    #MAEs = [] #creating a list of MAEs for the iterated indicies\n",
    "    #for train_index, test_index in cv.split(X): #cv.split selects splits for data\n",
    "        #X_train, X_test = X[train_index], X[test_index] #Now that we have train and test indicies we can use them to get our splits\n",
    "        #y_train, y_test = y[train_index], y[test_index]\n",
    "    X_train, X_test, y_train, y_test= train_test_split(X, y, test_size= 0.2)\n",
    "    clf.fit(X_train, y_train) \n",
    "    y_preds = clf.predict(X_test)\n",
    "    MAE = np.mean(np.abs(y_preds-y_test))\n",
    "    #MAEs.append(MAE)\n",
    "    return MAE"
   ]
  },
  {
   "cell_type": "code",
   "execution_count": 13,
   "metadata": {},
   "outputs": [
    {
     "name": "stdout",
     "output_type": "stream",
     "text": [
      "RidgeCV\n",
      "1341.642473514088\n",
      "ElasticNetCV\n",
      "1684.9114161708571\n",
      "LassoCV\n",
      "1338.4424076750668\n"
     ]
    }
   ],
   "source": [
    "for clf in [RidgeCV(), ElasticNetCV(), LassoCV()]:\n",
    "    print(clf.__class__.__name__)\n",
    "    print(perform_reg(clf, X.values, y.values)) #reason we are doing this is because we are converting from DF to array\n",
    "    "
   ]
  },
  {
   "cell_type": "code",
   "execution_count": null,
   "metadata": {},
   "outputs": [],
   "source": [
    "X_pca = PCA(6).fit_transform(X) #Went from 130 dimensions to 6 and didnt lose accuracy"
   ]
  },
  {
   "cell_type": "code",
   "execution_count": null,
   "metadata": {},
   "outputs": [],
   "source": [
    "for clf in [RidgeCV(), ElasticNetCV(), LassoCV()]:\n",
    "    print(clf.__class__.__name__)\n",
    "    print(perform_reg(clf, X_pca, y.values))"
   ]
  },
  {
   "cell_type": "code",
   "execution_count": null,
   "metadata": {},
   "outputs": [],
   "source": [
    "#PCA was faster\n",
    "#SGD was so much worse without PCA\n",
    "#Take PCA out of notebook in final submission"
   ]
  }
 ],
 "metadata": {
  "kernelspec": {
   "display_name": "Python 3",
   "language": "python",
   "name": "python3"
  },
  "language_info": {
   "codemirror_mode": {
    "name": "ipython",
    "version": 3
   },
   "file_extension": ".py",
   "mimetype": "text/x-python",
   "name": "python",
   "nbconvert_exporter": "python",
   "pygments_lexer": "ipython3",
   "version": "3.7.6"
  }
 },
 "nbformat": 4,
 "nbformat_minor": 4
}
